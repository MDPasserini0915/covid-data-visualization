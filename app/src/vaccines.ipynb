{
 "metadata": {
  "language_info": {
   "codemirror_mode": {
    "name": "ipython",
    "version": 3
   },
   "file_extension": ".py",
   "mimetype": "text/x-python",
   "name": "python",
   "nbconvert_exporter": "python",
   "pygments_lexer": "ipython3",
   "version": 3
  },
  "orig_nbformat": 2
 },
 "nbformat": 4,
 "nbformat_minor": 2,
 "cells": [
  {
   "cell_type": "code",
   "execution_count": null,
   "metadata": {},
   "outputs": [],
   "source": [
    "import pandas as pd\n",
    "import matplotlib.pyplot as plt\n",
    "\n",
    "# Read in data\n",
    "\n",
    "# Create total and manufacturer columns\n",
    "\n",
    "# Get the total number of vaccines by manufacturer\n",
    "\n",
    "# Create a pie chart to show vaccine allocation by manufacturer in the US\n",
    "\n",
    "# Create a bar chart to show total vaccies by jurisdiction\n"
   ]
  }
 ]
}