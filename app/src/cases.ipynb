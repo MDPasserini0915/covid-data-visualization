{
 "metadata": {
  "language_info": {
   "codemirror_mode": {
    "name": "ipython",
    "version": 3
   },
   "file_extension": ".py",
   "mimetype": "text/x-python",
   "name": "python",
   "nbconvert_exporter": "python",
   "pygments_lexer": "ipython3",
   "version": 3
  },
  "orig_nbformat": 2
 },
 "nbformat": 4,
 "nbformat_minor": 2,
 "cells": [
  {
   "cell_type": "code",
   "execution_count": null,
   "metadata": {},
   "outputs": [],
   "source": [
    "import pandas as pd\n",
    "\n",
    "# Get data from the cases CSV\n",
    "\n",
    "# Display the range of the data set\n",
    "\n",
    "# Get distinct states\n",
    "\n",
    "# Get total cases\n",
    "\n",
    "# Get total number of deaths\n",
    "\n",
    "# Get day with highest new cases\n",
    "\n",
    "# Get state with highest average new cases\n",
    "\n",
    "# Get state with highest average deaths\n",
    "\n",
    "# Plot covid cases over time in the US\n",
    "\n",
    "# Plot covid death over time in the US\n"
   ]
  }
 ]
}